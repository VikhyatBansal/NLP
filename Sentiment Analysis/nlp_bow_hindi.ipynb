{
 "cells": [
  {
   "cell_type": "code",
   "execution_count": 1,
   "id": "5684fcc0",
   "metadata": {
    "scrolled": true
   },
   "outputs": [],
   "source": [
    "import re\n",
    "import numpy as np\n",
    "import pandas as pd\n",
    "from sklearn.model_selection import train_test_split\n",
    "from sklearn.preprocessing import LabelEncoder\n",
    "from sklearn.metrics import accuracy_score\n",
    "from sklearn.feature_extraction.text import CountVectorizer\n",
    "from sklearn.metrics import confusion_matrix,ConfusionMatrixDisplay\n",
    "from sklearn.metrics import classification_report\n",
    "import matplotlib.pyplot as plt\n",
    "\n",
    "from skntk import NeuralTangentKernel as NTK\n",
    "from sklearn.svm import SVC\n",
    "from sklearn.ensemble import RandomForestClassifier\n",
    "from xgboost import XGBClassifier"
   ]
  },
  {
   "cell_type": "code",
   "execution_count": 2,
   "id": "60441712",
   "metadata": {},
   "outputs": [],
   "source": [
    "data=pd.read_csv(r'D:\\CODING\\Python\\NLP\\END_SEM\\hindi_data.csv')"
   ]
  },
  {
   "cell_type": "code",
   "execution_count": 3,
   "id": "5076b52c-8d54-4988-a10d-a042ecf711a4",
   "metadata": {},
   "outputs": [
    {
     "data": {
      "text/html": [
       "<div>\n",
       "<style scoped>\n",
       "    .dataframe tbody tr th:only-of-type {\n",
       "        vertical-align: middle;\n",
       "    }\n",
       "\n",
       "    .dataframe tbody tr th {\n",
       "        vertical-align: top;\n",
       "    }\n",
       "\n",
       "    .dataframe thead th {\n",
       "        text-align: right;\n",
       "    }\n",
       "</style>\n",
       "<table border=\"1\" class=\"dataframe\">\n",
       "  <thead>\n",
       "    <tr style=\"text-align: right;\">\n",
       "      <th></th>\n",
       "      <th>text</th>\n",
       "      <th>sentiment</th>\n",
       "    </tr>\n",
       "  </thead>\n",
       "  <tbody>\n",
       "    <tr>\n",
       "      <th>0</th>\n",
       "      <td>लोग वतन तक खा जाते हैं इसका इसे यकीन नहींमान ज...</td>\n",
       "      <td>negative</td>\n",
       "    </tr>\n",
       "    <tr>\n",
       "      <th>1</th>\n",
       "      <td>गुमनाम है वतन पर मिटने वाले लोग आतन्कवादियों स...</td>\n",
       "      <td>negative</td>\n",
       "    </tr>\n",
       "    <tr>\n",
       "      <th>2</th>\n",
       "      <td>ज़ंजीर बदली जा रही थी मैं समझा था रिहाई हो गयी है</td>\n",
       "      <td>negative</td>\n",
       "    </tr>\n",
       "    <tr>\n",
       "      <th>3</th>\n",
       "      <td>यूपी में बड़े स्तर पर दंगे करवा सकती है बीजेपी...</td>\n",
       "      <td>negative</td>\n",
       "    </tr>\n",
       "    <tr>\n",
       "      <th>4</th>\n",
       "      <td>अंग्रेजी नहीं आती है इसलिए हिन्दी ट्विट ज्यादा...</td>\n",
       "      <td>negative</td>\n",
       "    </tr>\n",
       "  </tbody>\n",
       "</table>\n",
       "</div>"
      ],
      "text/plain": [
       "                                                text sentiment\n",
       "0  लोग वतन तक खा जाते हैं इसका इसे यकीन नहींमान ज...  negative\n",
       "1  गुमनाम है वतन पर मिटने वाले लोग आतन्कवादियों स...  negative\n",
       "2  ज़ंजीर बदली जा रही थी मैं समझा था रिहाई हो गयी है  negative\n",
       "3  यूपी में बड़े स्तर पर दंगे करवा सकती है बीजेपी...  negative\n",
       "4  अंग्रेजी नहीं आती है इसलिए हिन्दी ट्विट ज्यादा...  negative"
      ]
     },
     "execution_count": 3,
     "metadata": {},
     "output_type": "execute_result"
    }
   ],
   "source": [
    "data.head()"
   ]
  },
  {
   "cell_type": "code",
   "execution_count": 4,
   "id": "6c239d0b-3281-475d-9b8c-b048af3b1d13",
   "metadata": {},
   "outputs": [],
   "source": [
    "data.dropna(inplace=True)"
   ]
  },
  {
   "cell_type": "code",
   "execution_count": 5,
   "id": "4991814a",
   "metadata": {},
   "outputs": [],
   "source": [
    "def preprocess_and_clean_hindi(text):\n",
    "    # Define the function to preprocess Hindi text by tokenizing\n",
    "    def preprocess_text_hindi(text):\n",
    "        tokens = text.split(\" \")\n",
    "        return tokens\n",
    "\n",
    "    # Define the function to remove non-Hindi characters while preserving spaces\n",
    "    def remove_non_hindi(text):\n",
    "        hindi_pattern = re.compile(\"[\\u0900-\\u097F\\s]+\")  # Unicode range for Hindi characters and space\n",
    "        hindi_text = hindi_pattern.findall(text)\n",
    "        cleaned_text = ''.join(hindi_text)\n",
    "        return cleaned_text\n",
    "\n",
    "    # Tokenize the text\n",
    "    tokens = preprocess_text_hindi(text)\n",
    "\n",
    "    # Remove non-Hindi characters while preserving spaces\n",
    "    cleaned_text = ' '.join([remove_non_hindi(token) for token in tokens])\n",
    "\n",
    "    return cleaned_text\n",
    "\n",
    "data['text'] = data['text'].apply(preprocess_and_clean_hindi)\n",
    "\n",
    "data['label'] = data['sentiment'].map({'positive': 1, 'negative': 0,'neutral': 2})\n"
   ]
  },
  {
   "cell_type": "code",
   "execution_count": 6,
   "id": "f0b8b625-5685-4469-b9ea-8446708bb019",
   "metadata": {},
   "outputs": [],
   "source": [
    "data = data[data['label'] != 2]"
   ]
  },
  {
   "cell_type": "code",
   "execution_count": 7,
   "id": "cbbbf1d1",
   "metadata": {},
   "outputs": [],
   "source": [
    "bow_vectorizer = CountVectorizer()\n",
    "X_ngram = bow_vectorizer.fit_transform(data['text'])\n",
    "\n",
    "X_train, X_test, y_train, y_test = train_test_split(X_ngram, data['label'], test_size=0.2, random_state=42)\n"
   ]
  },
  {
   "cell_type": "code",
   "execution_count": 8,
   "id": "d176bcc6-1ebf-443d-b9de-b2d3cc729dc5",
   "metadata": {},
   "outputs": [
    {
     "name": "stdout",
     "output_type": "stream",
     "text": [
      "SVM Classification Report:\n",
      "              precision    recall  f1-score   support\n",
      "\n",
      "           0       0.74      0.61      0.67       208\n",
      "           1       0.67      0.79      0.72       208\n",
      "\n",
      "    accuracy                           0.70       416\n",
      "   macro avg       0.70      0.70      0.69       416\n",
      "weighted avg       0.70      0.70      0.69       416\n",
      "\n"
     ]
    }
   ],
   "source": [
    "# SVM\n",
    "svm_model = SVC()\n",
    "svm_model.fit(X_train, y_train)\n",
    "y_pred_svm = svm_model.predict(X_test)\n",
    "print(\"SVM Classification Report:\")\n",
    "print(classification_report(y_test, y_pred_svm))\n",
    "\n"
   ]
  },
  {
   "cell_type": "code",
   "execution_count": 9,
   "id": "f2f9ab3c-91a6-4148-89f1-88cfcdd1c315",
   "metadata": {},
   "outputs": [
    {
     "name": "stdout",
     "output_type": "stream",
     "text": [
      "Random Forest Classification Report:\n",
      "              precision    recall  f1-score   support\n",
      "\n",
      "           0       0.69      0.62      0.65       208\n",
      "           1       0.65      0.73      0.69       208\n",
      "\n",
      "    accuracy                           0.67       416\n",
      "   macro avg       0.67      0.67      0.67       416\n",
      "weighted avg       0.67      0.67      0.67       416\n",
      "\n"
     ]
    }
   ],
   "source": [
    "# Random Forest\n",
    "rf_model = RandomForestClassifier()\n",
    "rf_model.fit(X_train, y_train)\n",
    "y_pred_rf = rf_model.predict(X_test)\n",
    "print(\"Random Forest Classification Report:\")\n",
    "print(classification_report(y_test, y_pred_rf))\n",
    "\n"
   ]
  },
  {
   "cell_type": "code",
   "execution_count": 10,
   "id": "487fe973-2517-446b-84c4-6c3ace347ed4",
   "metadata": {},
   "outputs": [
    {
     "name": "stdout",
     "output_type": "stream",
     "text": [
      "XGBoost Classification Report:\n",
      "              precision    recall  f1-score   support\n",
      "\n",
      "           0       0.70      0.56      0.63       208\n",
      "           1       0.64      0.76      0.69       208\n",
      "\n",
      "    accuracy                           0.66       416\n",
      "   macro avg       0.67      0.66      0.66       416\n",
      "weighted avg       0.67      0.66      0.66       416\n",
      "\n"
     ]
    }
   ],
   "source": [
    "# XGBoost\n",
    "xgb_model = XGBClassifier()\n",
    "xgb_model.fit(X_train, y_train)\n",
    "y_pred_xgb = xgb_model.predict(X_test)\n",
    "print(\"XGBoost Classification Report:\")\n",
    "print(classification_report(y_test, y_pred_xgb))"
   ]
  },
  {
   "cell_type": "code",
   "execution_count": 11,
   "id": "29f2659d-282f-47cf-a3e2-2f8316b2a3f3",
   "metadata": {},
   "outputs": [
    {
     "data": {
      "image/png": "[encoded data removed]",
      "text/plain": [
       "<Figure size 800x600 with 1 Axes>"
      ]
     },
     "metadata": {},
     "output_type": "display_data"
    }
   ],
   "source": [
    "import matplotlib.pyplot as plt\n",
    "from sklearn.metrics import roc_curve, auc\n",
    "\n",
    "# Create a figure and axis\n",
    "fig, ax = plt.subplots(figsize=(8, 6))\n",
    "\n",
    "# SVM\n",
    "svm_fpr, svm_tpr, _ = roc_curve(y_test, svm_model.decision_function(X_test))\n",
    "svm_auc = auc(svm_fpr, svm_tpr)\n",
    "ax.plot(svm_fpr, svm_tpr, label='SVM (AUC = {:.3f})'.format(svm_auc))\n",
    "\n",
    "# Random guessing line\n",
    "ax.plot([0, 1], [0, 1], 'k--', label='Random Guessing')\n",
    "\n",
    "# Axis labels and title\n",
    "ax.set_xlabel('False Positive Rate')\n",
    "ax.set_ylabel('True Positive Rate')\n",
    "ax.set_title('Receiver Operating Characteristic (ROC) Curve')\n",
    "\n",
    "# Legend\n",
    "ax.legend(loc='best')\n",
    "\n",
    "# Show the plot\n",
    "plt.show()"
   ]
  }
 ],
 "metadata": {
  "kernelspec": {
   "display_name": "tensorflow",
   "language": "python",
   "name": "tensorflow"
  },
  "language_info": {
   "codemirror_mode": {
    "name": "ipython",
    "version": 3
   },
   "file_extension": ".py",
   "mimetype": "text/x-python",
   "name": "python",
   "nbconvert_exporter": "python",
   "pygments_lexer": "ipython3",
   "version": "3.11.8"
  }
 },
 "nbformat": 4,
 "nbformat_minor": 5
}
