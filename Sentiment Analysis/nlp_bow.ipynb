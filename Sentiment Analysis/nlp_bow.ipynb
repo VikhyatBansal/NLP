{
 "cells": [
  {
   "cell_type": "code",
   "execution_count": 4,
   "id": "5684fcc0",
   "metadata": {
    "scrolled": true
   },
   "outputs": [],
   "source": [
    "import re\n",
    "import numpy as np\n",
    "import pandas as pd\n",
    "from nltk.tokenize import word_tokenize\n",
    "from nltk.corpus import stopwords\n",
    "from sklearn.model_selection import train_test_split\n",
    "from sklearn.preprocessing import LabelEncoder\n",
    "from sklearn.feature_extraction.text import CountVectorizer\n",
    "from sklearn.pipeline import FeatureUnion, Pipeline\n",
    "from sklearn.metrics import accuracy_score\n",
    "from sklearn.metrics import confusion_matrix,ConfusionMatrixDisplay\n",
    "from sklearn.metrics import classification_report\n",
    "import matplotlib.pyplot as plt\n",
    "from skntk import NeuralTangentKernel as NTK\n",
    "from sklearn.svm import SVC\n",
    "from sklearn.ensemble import RandomForestClassifier\n",
    "from xgboost import XGBClassifier"
   ]
  },
  {
   "cell_type": "code",
   "execution_count": 5,
   "id": "60441712",
   "metadata": {},
   "outputs": [],
   "source": [
    "data=pd.read_csv(r'D:\\CODING\\Python\\NLP\\END_SEM\\IMDB Dataset.csv')"
   ]
  },
  {
   "cell_type": "code",
   "execution_count": 6,
   "id": "4991814a",
   "metadata": {},
   "outputs": [],
   "source": [
    "def preprocess_text(text):\n",
    "    text = text.lower()\n",
    "    text = re.sub(r'[^a-zA-Z\\s]', '', text)\n",
    "    tokens = word_tokenize(text)\n",
    "    stop_words = set(stopwords.words('english'))\n",
    "    tokens = [word for word in tokens if word not in stop_words]\n",
    "    return ' '.join(tokens)  # Join tokens back into a single string\n",
    "\n",
    "\n",
    "data['review'] = data['review'].apply(preprocess_text)\n",
    "\n",
    "data['label'] = data['sentiment'].map({'positive': 1, 'negative': 0})\n"
   ]
  },
  {
   "cell_type": "code",
   "execution_count": 7,
   "id": "4239e3b3-da6e-4dac-9d36-20b511a82660",
   "metadata": {},
   "outputs": [
    {
     "data": {
      "text/html": [
       "<div>\n",
       "<style scoped>\n",
       "    .dataframe tbody tr th:only-of-type {\n",
       "        vertical-align: middle;\n",
       "    }\n",
       "\n",
       "    .dataframe tbody tr th {\n",
       "        vertical-align: top;\n",
       "    }\n",
       "\n",
       "    .dataframe thead th {\n",
       "        text-align: right;\n",
       "    }\n",
       "</style>\n",
       "<table border=\"1\" class=\"dataframe\">\n",
       "  <thead>\n",
       "    <tr style=\"text-align: right;\">\n",
       "      <th></th>\n",
       "      <th>review</th>\n",
       "      <th>sentiment</th>\n",
       "      <th>label</th>\n",
       "    </tr>\n",
       "  </thead>\n",
       "  <tbody>\n",
       "    <tr>\n",
       "      <th>0</th>\n",
       "      <td>one reviewers mentioned watching oz episode yo...</td>\n",
       "      <td>positive</td>\n",
       "      <td>1</td>\n",
       "    </tr>\n",
       "    <tr>\n",
       "      <th>1</th>\n",
       "      <td>wonderful little production br br filming tech...</td>\n",
       "      <td>positive</td>\n",
       "      <td>1</td>\n",
       "    </tr>\n",
       "    <tr>\n",
       "      <th>2</th>\n",
       "      <td>thought wonderful way spend time hot summer we...</td>\n",
       "      <td>positive</td>\n",
       "      <td>1</td>\n",
       "    </tr>\n",
       "    <tr>\n",
       "      <th>3</th>\n",
       "      <td>basically theres family little boy jake thinks...</td>\n",
       "      <td>negative</td>\n",
       "      <td>0</td>\n",
       "    </tr>\n",
       "    <tr>\n",
       "      <th>4</th>\n",
       "      <td>petter matteis love time money visually stunni...</td>\n",
       "      <td>positive</td>\n",
       "      <td>1</td>\n",
       "    </tr>\n",
       "  </tbody>\n",
       "</table>\n",
       "</div>"
      ],
      "text/plain": [
       "                                              review sentiment  label\n",
       "0  one reviewers mentioned watching oz episode yo...  positive      1\n",
       "1  wonderful little production br br filming tech...  positive      1\n",
       "2  thought wonderful way spend time hot summer we...  positive      1\n",
       "3  basically theres family little boy jake thinks...  negative      0\n",
       "4  petter matteis love time money visually stunni...  positive      1"
      ]
     },
     "execution_count": 7,
     "metadata": {},
     "output_type": "execute_result"
    }
   ],
   "source": [
    "data.head()"
   ]
  },
  {
   "cell_type": "code",
   "execution_count": 8,
   "id": "3468cd7b-8016-4b76-807a-f45aecdda42d",
   "metadata": {},
   "outputs": [
    {
     "name": "stdout",
     "output_type": "stream",
     "text": [
      "Iteration 1:\n",
      "Iteration 2:\n",
      "Iteration 3:\n",
      "Iteration 4:\n",
      "Iteration 5:\n",
      "Iteration 6:\n",
      "Iteration 7:\n",
      "Iteration 8:\n",
      "Iteration 9:\n",
      "Iteration 10:\n",
      "Iteration 11:\n",
      "Iteration 12:\n",
      "Iteration 13:\n",
      "Iteration 14:\n",
      "Iteration 15:\n",
      "Iteration 16:\n",
      "Iteration 17:\n",
      "Iteration 18:\n",
      "Iteration 19:\n",
      "Iteration 20:\n",
      "Iteration 21:\n",
      "Iteration 22:\n",
      "Iteration 23:\n",
      "Iteration 24:\n",
      "Iteration 25:\n",
      "Iteration 26:\n",
      "Iteration 27:\n",
      "Iteration 28:\n",
      "Iteration 29:\n",
      "Iteration 30:\n",
      "Iteration 31:\n",
      "Iteration 32:\n",
      "Iteration 33:\n",
      "Iteration 34:\n",
      "Iteration 35:\n",
      "Iteration 36:\n",
      "Iteration 37:\n",
      "Iteration 38:\n",
      "Iteration 39:\n",
      "Iteration 40:\n",
      "Iteration 41:\n",
      "Iteration 42:\n",
      "Iteration 43:\n",
      "Iteration 44:\n",
      "Iteration 45:\n",
      "Iteration 46:\n",
      "Iteration 47:\n",
      "Iteration 48:\n",
      "Iteration 49:\n",
      "Iteration 50:\n"
     ]
    }
   ],
   "source": [
    "num_iterations = 50\n",
    "\n",
    "svm_reports = []\n",
    "rf_reports = []\n",
    "xgb_reports = []\n",
    "\n",
    "for i in range(num_iterations):\n",
    "    print(f\"Iteration {i + 1}:\")\n",
    "\n",
    "    df_subset = data.sample(n=5000, random_state=i)\n",
    "\n",
    "    bow_vectorizer = CountVectorizer()\n",
    "    X_bow = bow_vectorizer.fit_transform(df_subset['review'])\n",
    "\n",
    "    X_train, X_test, y_train, y_test = train_test_split(X_bow, df_subset['label'], test_size=0.2, random_state=42)\n",
    "\n",
    "\n",
    "    # SVM\n",
    "    svm_model = SVC()\n",
    "    svm_model.fit(X_train, y_train)\n",
    "    y_pred_svm = svm_model.predict(X_test)\n",
    "    svm_report = classification_report(y_test, y_pred_svm, output_dict=True)\n",
    "    svm_reports.append(svm_report)\n",
    "\n",
    "    # Random Forest\n",
    "    rf_model = RandomForestClassifier()\n",
    "    rf_model.fit(X_train, y_train)\n",
    "    y_pred_rf = rf_model.predict(X_test)\n",
    "    rf_report = classification_report(y_test, y_pred_rf, output_dict=True)\n",
    "    rf_reports.append(rf_report)\n",
    "\n",
    "    # XGBoost\n",
    "    xgb_model = XGBClassifier()\n",
    "    xgb_model.fit(X_train, y_train)\n",
    "    y_pred_xgb = xgb_model.predict(X_test)\n",
    "    xgb_report = classification_report(y_test, y_pred_xgb, output_dict=True)\n",
    "    xgb_reports.append(xgb_report)\n",
    "    "
   ]
  },
  {
   "cell_type": "code",
   "execution_count": 9,
   "id": "00969b85-c27a-41d9-bb3a-5e67bd962c39",
   "metadata": {},
   "outputs": [],
   "source": [
    "def average_classification_report(reports):\n",
    "    avg_report = {}\n",
    "    for metric in reports[0].keys():\n",
    "        if isinstance(reports[0][metric], dict):\n",
    "            avg_report[metric] = {cls: np.mean([report[metric][cls] for report in reports]) for cls in reports[0][metric].keys()}\n",
    "        else:\n",
    "            avg_report[metric] = np.mean([report[metric] for report in reports])\n",
    "    return avg_report\n"
   ]
  },
  {
   "cell_type": "code",
   "execution_count": 10,
   "id": "ba77d021-94a2-4cf1-ac74-fe0cf62ee246",
   "metadata": {},
   "outputs": [
    {
     "name": "stdout",
     "output_type": "stream",
     "text": [
      "Average SVM Classification Report:\n",
      "{'0': {'precision': 0.8655071482231304, 'recall': 0.7778054983666058, 'f1-score': 0.8191442816176681, 'support': 506.92}, '1': {'precision': 0.7931941940507804, 'recall': 0.87559157861243, 'f1-score': 0.8322262471608881, 'support': 493.08}, 'accuracy': 0.8261, 'macro avg': {'precision': 0.8293506711369554, 'recall': 0.8266985384895178, 'f1-score': 0.8256852643892781, 'support': 1000.0}, 'weighted avg': {'precision': 0.8300720899862074, 'recall': 0.8261, 'f1-score': 0.8257475095824828, 'support': 1000.0}}\n"
     ]
    }
   ],
   "source": [
    "avg_svm_report = average_classification_report(svm_reports)\n",
    "print(\"Average SVM Classification Report:\")\n",
    "print(avg_svm_report)\n"
   ]
  },
  {
   "cell_type": "code",
   "execution_count": 11,
   "id": "26ee7a01-2b80-4674-a842-581f33998bbf",
   "metadata": {},
   "outputs": [
    {
     "name": "stdout",
     "output_type": "stream",
     "text": [
      "Average Random Forest Classification Report:\n",
      "{'0': {'precision': 0.8324736764974012, 'recall': 0.8304313745873809, 'f1-score': 0.8312239062002146, 'support': 506.92}, '1': {'precision': 0.8263599299850084, 'recall': 0.8279867782032434, 'f1-score': 0.826936490979757, 'support': 493.08}, 'accuracy': 0.8292800000000001, 'macro avg': {'precision': 0.8294168032412048, 'recall': 0.829209076395312, 'f1-score': 0.8290801985899858, 'support': 1000.0}, 'weighted avg': {'precision': 0.8296875213182604, 'recall': 0.8292800000000001, 'f1-score': 0.829251369196664, 'support': 1000.0}}\n"
     ]
    }
   ],
   "source": [
    "avg_rf_report = average_classification_report(rf_reports)\n",
    "print(\"Average Random Forest Classification Report:\")\n",
    "print(avg_rf_report)\n"
   ]
  },
  {
   "cell_type": "code",
   "execution_count": 12,
   "id": "b2b4ea64-1486-4796-ab5b-0b58db964506",
   "metadata": {},
   "outputs": [
    {
     "name": "stdout",
     "output_type": "stream",
     "text": [
      "Average XGBoost Classification Report:\n",
      "{'0': {'precision': 0.8379616340098525, 'recall': 0.8032774256018846, 'f1-score': 0.8200808690988157, 'support': 506.92}, '1': {'precision': 0.8061353827634634, 'recall': 0.840164966183279, 'f1-score': 0.8226396297473729, 'support': 493.08}, 'accuracy': 0.8215399999999999, 'macro avg': {'precision': 0.8220485083866579, 'recall': 0.8217211958925819, 'f1-score': 0.8213602494230944, 'support': 1000.0}, 'weighted avg': {'precision': 0.8224966626875084, 'recall': 0.8215399999999999, 'f1-score': 0.8214944993355193, 'support': 1000.0}}\n"
     ]
    }
   ],
   "source": [
    "avg_xgb_report = average_classification_report(xgb_reports)\n",
    "print(\"Average XGBoost Classification Report:\")\n",
    "print(avg_xgb_report)\n"
   ]
  },
  {
   "cell_type": "code",
   "execution_count": 13,
   "id": "cef330d0",
   "metadata": {},
   "outputs": [
    {
     "name": "stdout",
     "output_type": "stream",
     "text": [
      "0.829 0.825 0.812\n"
     ]
    }
   ],
   "source": [
    "# Get the best model based on the accuracy score \n",
    "\n",
    "accuracy_svm = accuracy_score(y_test, y_pred_svm)\n",
    "accuracy_rf = accuracy_score(y_test, y_pred_rf)\n",
    "accuracy_xgb = accuracy_score(y_test, y_pred_xgb)\n",
    "\n",
    "print(accuracy_svm, accuracy_rf, accuracy_xgb)"
   ]
  },
  {
   "cell_type": "code",
   "execution_count": 14,
   "id": "797c4327",
   "metadata": {},
   "outputs": [
    {
     "data": {
      "image/png": "[encoded data removed]",
      "text/plain": [
       "<Figure size 800x600 with 1 Axes>"
      ]
     },
     "metadata": {},
     "output_type": "display_data"
    }
   ],
   "source": [
    "import matplotlib.pyplot as plt\n",
    "from sklearn.metrics import roc_curve, auc\n",
    "\n",
    "# Create a figure and axis\n",
    "fig, ax = plt.subplots(figsize=(8, 6))\n",
    "\n",
    "# SVM\n",
    "svm_fpr, svm_tpr, _ = roc_curve(y_test, svm_model.decision_function(X_test))\n",
    "svm_auc = auc(svm_fpr, svm_tpr)\n",
    "ax.plot(svm_fpr, svm_tpr, label='SVM (AUC = {:.3f})'.format(svm_auc))\n",
    "\n",
    "# Random guessing line\n",
    "ax.plot([0, 1], [0, 1], 'k--', label='Random Guessing')\n",
    "\n",
    "# Axis labels and title\n",
    "ax.set_xlabel('False Positive Rate')\n",
    "ax.set_ylabel('True Positive Rate')\n",
    "ax.set_title('Receiver Operating Characteristic (ROC) Curve')\n",
    "\n",
    "# Legend\n",
    "ax.legend(loc='best')\n",
    "\n",
    "# Show the plot\n",
    "plt.show()"
   ]
  }
 ],
 "metadata": {
  "kernelspec": {
   "display_name": "tensorflow",
   "language": "python",
   "name": "python3"
  },
  "language_info": {
   "codemirror_mode": {
    "name": "ipython",
    "version": 3
   },
   "file_extension": ".py",
   "mimetype": "text/x-python",
   "name": "python",
   "nbconvert_exporter": "python",
   "pygments_lexer": "ipython3",
   "version": "3.11.8"
  }
 },
 "nbformat": 4,
 "nbformat_minor": 5
}
