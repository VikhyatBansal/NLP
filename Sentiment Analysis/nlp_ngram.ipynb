{
 "cells": [
  {
   "cell_type": "code",
   "execution_count": 6,
   "id": "5684fcc0",
   "metadata": {
    "scrolled": true
   },
   "outputs": [],
   "source": [
    "import re\n",
    "import numpy as np\n",
    "import pandas as pd\n",
    "from nltk.tokenize import word_tokenize\n",
    "from nltk.corpus import stopwords\n",
    "from sklearn.model_selection import train_test_split\n",
    "from sklearn.preprocessing import LabelEncoder\n",
    "from sklearn.feature_extraction.text import CountVectorizer\n",
    "from sklearn.pipeline import FeatureUnion, Pipeline\n",
    "from sklearn.metrics import accuracy_score\n",
    "from sklearn.metrics import confusion_matrix,ConfusionMatrixDisplay\n",
    "from sklearn.metrics import classification_report\n",
    "import matplotlib.pyplot as plt\n",
    "\n",
    "from skntk import NeuralTangentKernel as NTK\n",
    "from sklearn.svm import SVC\n",
    "from sklearn.ensemble import RandomForestClassifier\n",
    "from xgboost import XGBClassifier"
   ]
  },
  {
   "cell_type": "code",
   "execution_count": 7,
   "id": "60441712",
   "metadata": {},
   "outputs": [],
   "source": [
    "data=pd.read_csv(r'D:\\CODING\\Python\\NLP\\END_SEM\\IMDB Dataset.csv')"
   ]
  },
  {
   "cell_type": "code",
   "execution_count": 8,
   "id": "4991814a",
   "metadata": {},
   "outputs": [],
   "source": [
    "def preprocess_text(text):\n",
    "    text = text.lower()\n",
    "    text = re.sub(r'[^a-zA-Z\\s]', '', text)\n",
    "    tokens = word_tokenize(text)\n",
    "    stop_words = set(stopwords.words('english'))\n",
    "    tokens = [word for word in tokens if word not in stop_words]\n",
    "    return ' '.join(tokens)  # Join tokens back into a single string\n",
    "\n",
    "\n",
    "data['review'] = data['review'].apply(preprocess_text)\n",
    "\n",
    "data['label'] = data['sentiment'].map({'positive': 1, 'negative': 0})\n"
   ]
  },
  {
   "cell_type": "code",
   "execution_count": 9,
   "id": "4239e3b3-da6e-4dac-9d36-20b511a82660",
   "metadata": {},
   "outputs": [
    {
     "data": {
      "text/html": [
       "<div>\n",
       "<style scoped>\n",
       "    .dataframe tbody tr th:only-of-type {\n",
       "        vertical-align: middle;\n",
       "    }\n",
       "\n",
       "    .dataframe tbody tr th {\n",
       "        vertical-align: top;\n",
       "    }\n",
       "\n",
       "    .dataframe thead th {\n",
       "        text-align: right;\n",
       "    }\n",
       "</style>\n",
       "<table border=\"1\" class=\"dataframe\">\n",
       "  <thead>\n",
       "    <tr style=\"text-align: right;\">\n",
       "      <th></th>\n",
       "      <th>review</th>\n",
       "      <th>sentiment</th>\n",
       "      <th>label</th>\n",
       "    </tr>\n",
       "  </thead>\n",
       "  <tbody>\n",
       "    <tr>\n",
       "      <th>0</th>\n",
       "      <td>one reviewers mentioned watching oz episode yo...</td>\n",
       "      <td>positive</td>\n",
       "      <td>1</td>\n",
       "    </tr>\n",
       "    <tr>\n",
       "      <th>1</th>\n",
       "      <td>wonderful little production br br filming tech...</td>\n",
       "      <td>positive</td>\n",
       "      <td>1</td>\n",
       "    </tr>\n",
       "    <tr>\n",
       "      <th>2</th>\n",
       "      <td>thought wonderful way spend time hot summer we...</td>\n",
       "      <td>positive</td>\n",
       "      <td>1</td>\n",
       "    </tr>\n",
       "    <tr>\n",
       "      <th>3</th>\n",
       "      <td>basically theres family little boy jake thinks...</td>\n",
       "      <td>negative</td>\n",
       "      <td>0</td>\n",
       "    </tr>\n",
       "    <tr>\n",
       "      <th>4</th>\n",
       "      <td>petter matteis love time money visually stunni...</td>\n",
       "      <td>positive</td>\n",
       "      <td>1</td>\n",
       "    </tr>\n",
       "  </tbody>\n",
       "</table>\n",
       "</div>"
      ],
      "text/plain": [
       "                                              review sentiment  label\n",
       "0  one reviewers mentioned watching oz episode yo...  positive      1\n",
       "1  wonderful little production br br filming tech...  positive      1\n",
       "2  thought wonderful way spend time hot summer we...  positive      1\n",
       "3  basically theres family little boy jake thinks...  negative      0\n",
       "4  petter matteis love time money visually stunni...  positive      1"
      ]
     },
     "execution_count": 9,
     "metadata": {},
     "output_type": "execute_result"
    }
   ],
   "source": [
    "data.head()"
   ]
  },
  {
   "cell_type": "code",
   "execution_count": 10,
   "id": "3468cd7b-8016-4b76-807a-f45aecdda42d",
   "metadata": {},
   "outputs": [
    {
     "name": "stdout",
     "output_type": "stream",
     "text": [
      "Iteration 1\n",
      "Iteration 2\n",
      "Iteration 3\n",
      "Iteration 4\n",
      "Iteration 5\n",
      "Iteration 6\n",
      "Iteration 7\n",
      "Iteration 8\n",
      "Iteration 9\n",
      "Iteration 10\n",
      "Iteration 11\n",
      "Iteration 12\n",
      "Iteration 13\n",
      "Iteration 14\n",
      "Iteration 15\n",
      "Iteration 16\n",
      "Iteration 17\n",
      "Iteration 18\n",
      "Iteration 19\n",
      "Iteration 20\n",
      "Iteration 21\n",
      "Iteration 22\n",
      "Iteration 23\n",
      "Iteration 24\n",
      "Iteration 25\n",
      "Iteration 26\n",
      "Iteration 27\n",
      "Iteration 28\n",
      "Iteration 29\n",
      "Iteration 30\n",
      "Iteration 31\n",
      "Iteration 32\n",
      "Iteration 33\n",
      "Iteration 34\n",
      "Iteration 35\n",
      "Iteration 36\n",
      "Iteration 37\n",
      "Iteration 38\n",
      "Iteration 39\n",
      "Iteration 40\n",
      "Iteration 41\n",
      "Iteration 42\n",
      "Iteration 43\n",
      "Iteration 44\n",
      "Iteration 45\n",
      "Iteration 46\n",
      "Iteration 47\n",
      "Iteration 48\n",
      "Iteration 49\n",
      "Iteration 50\n"
     ]
    }
   ],
   "source": [
    "num_iterations = 50\n",
    "\n",
    "svm_reports = []\n",
    "rf_reports = []\n",
    "xgb_reports = []\n",
    "\n",
    "for i in range(num_iterations):\n",
    "    print(f\"Iteration {i + 1}\")\n",
    "    df_subset = data.sample(n=5000, random_state=i)\n",
    "\n",
    "    ngram_vectorizer = CountVectorizer(ngram_range=(1, 2))\n",
    "    X_ngram = ngram_vectorizer.fit_transform(df_subset['review'])\n",
    "\n",
    "    X_train, X_test, y_train, y_test = train_test_split(X_ngram, df_subset['label'], test_size=0.2, random_state=42)\n",
    "\n",
    "    # SVM\n",
    "    svm_model = SVC()\n",
    "    svm_model.fit(X_train, y_train)\n",
    "    y_pred_svm = svm_model.predict(X_test)\n",
    "    svm_report = classification_report(y_test, y_pred_svm, output_dict=True)\n",
    "    svm_reports.append(svm_report)\n",
    "\n",
    "    # Random Forest\n",
    "    rf_model = RandomForestClassifier()\n",
    "    rf_model.fit(X_train, y_train)\n",
    "    y_pred_rf = rf_model.predict(X_test)\n",
    "    rf_report = classification_report(y_test, y_pred_rf, output_dict=True)\n",
    "    rf_reports.append(rf_report)\n",
    "\n",
    "    # XGBoost\n",
    "    xgb_model = XGBClassifier()\n",
    "    xgb_model.fit(X_train, y_train)\n",
    "    y_pred_xgb = xgb_model.predict(X_test)\n",
    "    xgb_report = classification_report(y_test, y_pred_xgb, output_dict=True)\n",
    "    xgb_reports.append(xgb_report)\n"
   ]
  },
  {
   "cell_type": "code",
   "execution_count": 16,
   "id": "73f8b3d9-a3a3-4dd5-8aa9-5d06ad628a8b",
   "metadata": {},
   "outputs": [],
   "source": [
    "def average_classification_report(reports):\n",
    "    avg_report = {}\n",
    "    for metric in reports[0].keys():\n",
    "        if isinstance(reports[0][metric], dict):\n",
    "            avg_report[metric] = {cls: np.mean([report[metric][cls] for report in reports]) for cls in reports[0][metric].keys()}\n",
    "        else:\n",
    "            avg_report[metric] = np.mean([report[metric] for report in reports])\n",
    "    return avg_report\n"
   ]
  },
  {
   "cell_type": "code",
   "execution_count": 17,
   "id": "b4614bff-00a5-4cba-915a-8703aa8980d3",
   "metadata": {},
   "outputs": [
    {
     "name": "stdout",
     "output_type": "stream",
     "text": [
      "Average SVM Classification Report:\n",
      "{'0': {'precision': 0.8667247266359246, 'recall': 0.7653402531470657, 'f1-score': 0.8126470403236202, 'support': 506.92}, '1': {'precision': 0.7847275008070699, 'recall': 0.8786795905346473, 'f1-score': 0.828884256100466, 'support': 493.08}, 'accuracy': 0.82132, 'macro avg': {'precision': 0.8257261137214974, 'recall': 0.8220099218408566, 'f1-score': 0.820765648212043, 'support': 1000.0}, 'weighted avg': {'precision': 0.8265044052736363, 'recall': 0.82132, 'f1-score': 0.8208102574844632, 'support': 1000.0}}\n"
     ]
    }
   ],
   "source": [
    "avg_svm_report = average_classification_report(svm_reports)\n",
    "print(\"Average SVM Classification Report:\")\n",
    "print(avg_svm_report)\n"
   ]
  },
  {
   "cell_type": "code",
   "execution_count": 18,
   "id": "76849f47-e858-4c5a-946a-4298a09d0fcf",
   "metadata": {},
   "outputs": [
    {
     "name": "stdout",
     "output_type": "stream",
     "text": [
      "Average Random Forest Classification Report:\n",
      "{'0': {'precision': 0.8510741390989582, 'recall': 0.7962361322471304, 'f1-score': 0.8222166813836307, 'support': 506.92}, '1': {'precision': 0.8039573953136622, 'recall': 0.8561079923020037, 'f1-score': 0.8287800904555344, 'support': 493.08}, 'accuracy': 0.8257799999999998, 'macro avg': {'precision': 0.8275157672063104, 'recall': 0.826172062274567, 'f1-score': 0.8254983859195825, 'support': 1000.0}, 'weighted avg': {'precision': 0.8280979145866589, 'recall': 0.8257799999999998, 'f1-score': 0.8255934738855819, 'support': 1000.0}}\n"
     ]
    }
   ],
   "source": [
    "avg_rf_report = average_classification_report(rf_reports)\n",
    "print(\"Average Random Forest Classification Report:\")\n",
    "print(avg_rf_report)"
   ]
  },
  {
   "cell_type": "code",
   "execution_count": 19,
   "id": "7600fba9-f384-4d1f-b36a-91e43b1de6a4",
   "metadata": {},
   "outputs": [
    {
     "name": "stdout",
     "output_type": "stream",
     "text": [
      "Average XGBoost Classification Report:\n",
      "{'0': {'precision': 0.8426785091589335, 'recall': 0.804513942240922, 'f1-score': 0.8229500551874273, 'support': 506.92}, '1': {'precision': 0.8080731664317582, 'recall': 0.8456466658611714, 'f1-score': 0.8262364635715049, 'support': 493.08}, 'accuracy': 0.8247399999999999, 'macro avg': {'precision': 0.8253758377953458, 'recall': 0.8250803040510466, 'f1-score': 0.824593259379466, 'support': 1000.0}, 'weighted avg': {'precision': 0.8259250634875065, 'recall': 0.8247399999999999, 'f1-score': 0.8246984469969995, 'support': 1000.0}}\n"
     ]
    }
   ],
   "source": [
    "avg_xgb_report = average_classification_report(xgb_reports)\n",
    "print(\"Average XGBoost Classification Report:\")\n",
    "print(avg_xgb_report)\n"
   ]
  },
  {
   "cell_type": "code",
   "execution_count": 22,
   "id": "53d8f608",
   "metadata": {},
   "outputs": [
    {
     "name": "stdout",
     "output_type": "stream",
     "text": [
      "0.821 0.822 0.802\n"
     ]
    }
   ],
   "source": [
    "# Get the best model based on the accuracy score \n",
    "\n",
    "accuracy_svm = accuracy_score(y_test, y_pred_svm)\n",
    "accuracy_rf = accuracy_score(y_test, y_pred_rf)\n",
    "accuracy_xgb = accuracy_score(y_test, y_pred_xgb)\n",
    "\n",
    "print(accuracy_rf, accuracy_svm, accuracy_xgb)"
   ]
  },
  {
   "cell_type": "code",
   "execution_count": 24,
   "id": "aff11f75",
   "metadata": {},
   "outputs": [
    {
     "data": {
      "image/png": "[encoded data removed]",
      "text/plain": [
       "<Figure size 640x480 with 1 Axes>"
      ]
     },
     "metadata": {},
     "output_type": "display_data"
    }
   ],
   "source": [
    "# Get the ROC AUC score for the best model\n",
    "\n",
    "import matplotlib.pyplot as plt\n",
    "from sklearn.metrics import roc_curve, auc\n",
    "\n",
    "# Create a figure and axis\n",
    "fig, ax = plt.subplots()\n",
    "\n",
    "# Plot the ROC curve for the best model\n",
    "fpr, tpr, thresholds = roc_curve(y_test, y_pred_svm)\n",
    "roc_auc = auc(fpr, tpr)\n",
    "ax.plot(fpr, tpr, label='SVM ROC Curve (area = %0.3f)' % roc_auc)\n",
    "\n",
    "# Add the random line\n",
    "ax.plot([0, 1], [0, 1], linestyle='--', color='red', label='Random')\n",
    "\n",
    "# Set the title and labels\n",
    "ax.set_title('ROC Curve')\n",
    "ax.set_xlabel('False Positive Rate')\n",
    "ax.set_ylabel('True Positive Rate')\n",
    "\n",
    "# Add the legend\n",
    "ax.legend()\n",
    "\n",
    "# Show the plot\n",
    "plt.show()"
   ]
  }
 ],
 "metadata": {
  "kernelspec": {
   "display_name": "Python 3 (ipykernel)",
   "language": "python",
   "name": "python3"
  },
  "language_info": {
   "codemirror_mode": {
    "name": "ipython",
    "version": 3
   },
   "file_extension": ".py",
   "mimetype": "text/x-python",
   "name": "python",
   "nbconvert_exporter": "python",
   "pygments_lexer": "ipython3",
   "version": "3.11.8"
  }
 },
 "nbformat": 4,
 "nbformat_minor": 5
}
