{
 "cells": [
  {
   "cell_type": "code",
   "execution_count": 1,
   "id": "5684fcc0",
   "metadata": {
    "scrolled": true
   },
   "outputs": [],
   "source": [
    "import re\n",
    "import numpy as np\n",
    "import pandas as pd\n",
    "import gensim\n",
    "import nltk\n",
    "from gensim.models import Word2Vec,FastText\n",
    "from nltk.corpus import stopwords\n",
    "from nltk.tokenize import word_tokenize\n",
    "from sklearn.model_selection import train_test_split\n",
    "from sklearn.preprocessing import LabelEncoder\n",
    "from sklearn.metrics import accuracy_score\n",
    "from sklearn.metrics import confusion_matrix,ConfusionMatrixDisplay\n",
    "from sklearn.metrics import classification_report\n",
    "import matplotlib.pyplot as plt\n",
    "from sklearn.gaussian_process import GaussianProcessRegressor as GPR\n",
    "from skntk import NeuralTangentKernel as NTK\n",
    "from sklearn.svm import SVC"
   ]
  },
  {
   "cell_type": "code",
   "execution_count": 2,
   "id": "60441712",
   "metadata": {},
   "outputs": [],
   "source": [
    "data=pd.read_csv(r'D:\\CODING\\Python\\NLP\\END_SEM\\IMDB Dataset.csv')"
   ]
  },
  {
   "cell_type": "code",
   "execution_count": 3,
   "id": "04575559",
   "metadata": {},
   "outputs": [
    {
     "data": {
      "text/html": [
       "<div>\n",
       "<style scoped>\n",
       "    .dataframe tbody tr th:only-of-type {\n",
       "        vertical-align: middle;\n",
       "    }\n",
       "\n",
       "    .dataframe tbody tr th {\n",
       "        vertical-align: top;\n",
       "    }\n",
       "\n",
       "    .dataframe thead th {\n",
       "        text-align: right;\n",
       "    }\n",
       "</style>\n",
       "<table border=\"1\" class=\"dataframe\">\n",
       "  <thead>\n",
       "    <tr style=\"text-align: right;\">\n",
       "      <th></th>\n",
       "      <th>review</th>\n",
       "      <th>sentiment</th>\n",
       "    </tr>\n",
       "  </thead>\n",
       "  <tbody>\n",
       "    <tr>\n",
       "      <th>0</th>\n",
       "      <td>One of the other reviewers has mentioned that ...</td>\n",
       "      <td>positive</td>\n",
       "    </tr>\n",
       "    <tr>\n",
       "      <th>1</th>\n",
       "      <td>A wonderful little production. &lt;br /&gt;&lt;br /&gt;The...</td>\n",
       "      <td>positive</td>\n",
       "    </tr>\n",
       "    <tr>\n",
       "      <th>2</th>\n",
       "      <td>I thought this was a wonderful way to spend ti...</td>\n",
       "      <td>positive</td>\n",
       "    </tr>\n",
       "    <tr>\n",
       "      <th>3</th>\n",
       "      <td>Basically there's a family where a little boy ...</td>\n",
       "      <td>negative</td>\n",
       "    </tr>\n",
       "    <tr>\n",
       "      <th>4</th>\n",
       "      <td>Petter Mattei's \"Love in the Time of Money\" is...</td>\n",
       "      <td>positive</td>\n",
       "    </tr>\n",
       "    <tr>\n",
       "      <th>...</th>\n",
       "      <td>...</td>\n",
       "      <td>...</td>\n",
       "    </tr>\n",
       "    <tr>\n",
       "      <th>49995</th>\n",
       "      <td>I thought this movie did a down right good job...</td>\n",
       "      <td>positive</td>\n",
       "    </tr>\n",
       "    <tr>\n",
       "      <th>49996</th>\n",
       "      <td>Bad plot, bad dialogue, bad acting, idiotic di...</td>\n",
       "      <td>negative</td>\n",
       "    </tr>\n",
       "    <tr>\n",
       "      <th>49997</th>\n",
       "      <td>I am a Catholic taught in parochial elementary...</td>\n",
       "      <td>negative</td>\n",
       "    </tr>\n",
       "    <tr>\n",
       "      <th>49998</th>\n",
       "      <td>I'm going to have to disagree with the previou...</td>\n",
       "      <td>negative</td>\n",
       "    </tr>\n",
       "    <tr>\n",
       "      <th>49999</th>\n",
       "      <td>No one expects the Star Trek movies to be high...</td>\n",
       "      <td>negative</td>\n",
       "    </tr>\n",
       "  </tbody>\n",
       "</table>\n",
       "<p>50000 rows × 2 columns</p>\n",
       "</div>"
      ],
      "text/plain": [
       "                                                  review sentiment\n",
       "0      One of the other reviewers has mentioned that ...  positive\n",
       "1      A wonderful little production. <br /><br />The...  positive\n",
       "2      I thought this was a wonderful way to spend ti...  positive\n",
       "3      Basically there's a family where a little boy ...  negative\n",
       "4      Petter Mattei's \"Love in the Time of Money\" is...  positive\n",
       "...                                                  ...       ...\n",
       "49995  I thought this movie did a down right good job...  positive\n",
       "49996  Bad plot, bad dialogue, bad acting, idiotic di...  negative\n",
       "49997  I am a Catholic taught in parochial elementary...  negative\n",
       "49998  I'm going to have to disagree with the previou...  negative\n",
       "49999  No one expects the Star Trek movies to be high...  negative\n",
       "\n",
       "[50000 rows x 2 columns]"
      ]
     },
     "execution_count": 3,
     "metadata": {},
     "output_type": "execute_result"
    }
   ],
   "source": [
    "data"
   ]
  },
  {
   "cell_type": "code",
   "execution_count": 4,
   "id": "4991814a",
   "metadata": {},
   "outputs": [],
   "source": [
    "def preprocess_text(text):\n",
    "    text = text.lower()\n",
    "    text = re.sub(r'[^a-zA-Z\\s]', '', text)\n",
    "    tokens = word_tokenize(text)\n",
    "    stop_words = set(stopwords.words('english'))\n",
    "    tokens = [word for word in tokens if word not in stop_words]\n",
    "    return tokens\n",
    "\n",
    "data['review'] = data['review'].apply(preprocess_text)\n",
    "\n",
    "data['label'] = data['sentiment'].map({'positive': 1, 'negative': 0})\n"
   ]
  },
  {
   "cell_type": "code",
   "execution_count": 5,
   "id": "ae8adbae",
   "metadata": {},
   "outputs": [
    {
     "data": {
      "text/html": [
       "<div>\n",
       "<style scoped>\n",
       "    .dataframe tbody tr th:only-of-type {\n",
       "        vertical-align: middle;\n",
       "    }\n",
       "\n",
       "    .dataframe tbody tr th {\n",
       "        vertical-align: top;\n",
       "    }\n",
       "\n",
       "    .dataframe thead th {\n",
       "        text-align: right;\n",
       "    }\n",
       "</style>\n",
       "<table border=\"1\" class=\"dataframe\">\n",
       "  <thead>\n",
       "    <tr style=\"text-align: right;\">\n",
       "      <th></th>\n",
       "      <th>review</th>\n",
       "      <th>sentiment</th>\n",
       "      <th>label</th>\n",
       "    </tr>\n",
       "  </thead>\n",
       "  <tbody>\n",
       "    <tr>\n",
       "      <th>0</th>\n",
       "      <td>[one, reviewers, mentioned, watching, oz, epis...</td>\n",
       "      <td>positive</td>\n",
       "      <td>1</td>\n",
       "    </tr>\n",
       "    <tr>\n",
       "      <th>1</th>\n",
       "      <td>[wonderful, little, production, br, br, filmin...</td>\n",
       "      <td>positive</td>\n",
       "      <td>1</td>\n",
       "    </tr>\n",
       "    <tr>\n",
       "      <th>2</th>\n",
       "      <td>[thought, wonderful, way, spend, time, hot, su...</td>\n",
       "      <td>positive</td>\n",
       "      <td>1</td>\n",
       "    </tr>\n",
       "    <tr>\n",
       "      <th>3</th>\n",
       "      <td>[basically, theres, family, little, boy, jake,...</td>\n",
       "      <td>negative</td>\n",
       "      <td>0</td>\n",
       "    </tr>\n",
       "    <tr>\n",
       "      <th>4</th>\n",
       "      <td>[petter, matteis, love, time, money, visually,...</td>\n",
       "      <td>positive</td>\n",
       "      <td>1</td>\n",
       "    </tr>\n",
       "    <tr>\n",
       "      <th>...</th>\n",
       "      <td>...</td>\n",
       "      <td>...</td>\n",
       "      <td>...</td>\n",
       "    </tr>\n",
       "    <tr>\n",
       "      <th>49995</th>\n",
       "      <td>[thought, movie, right, good, job, wasnt, crea...</td>\n",
       "      <td>positive</td>\n",
       "      <td>1</td>\n",
       "    </tr>\n",
       "    <tr>\n",
       "      <th>49996</th>\n",
       "      <td>[bad, plot, bad, dialogue, bad, acting, idioti...</td>\n",
       "      <td>negative</td>\n",
       "      <td>0</td>\n",
       "    </tr>\n",
       "    <tr>\n",
       "      <th>49997</th>\n",
       "      <td>[catholic, taught, parochial, elementary, scho...</td>\n",
       "      <td>negative</td>\n",
       "      <td>0</td>\n",
       "    </tr>\n",
       "    <tr>\n",
       "      <th>49998</th>\n",
       "      <td>[im, going, disagree, previous, comment, side,...</td>\n",
       "      <td>negative</td>\n",
       "      <td>0</td>\n",
       "    </tr>\n",
       "    <tr>\n",
       "      <th>49999</th>\n",
       "      <td>[one, expects, star, trek, movies, high, art, ...</td>\n",
       "      <td>negative</td>\n",
       "      <td>0</td>\n",
       "    </tr>\n",
       "  </tbody>\n",
       "</table>\n",
       "<p>50000 rows × 3 columns</p>\n",
       "</div>"
      ],
      "text/plain": [
       "                                                  review sentiment  label\n",
       "0      [one, reviewers, mentioned, watching, oz, epis...  positive      1\n",
       "1      [wonderful, little, production, br, br, filmin...  positive      1\n",
       "2      [thought, wonderful, way, spend, time, hot, su...  positive      1\n",
       "3      [basically, theres, family, little, boy, jake,...  negative      0\n",
       "4      [petter, matteis, love, time, money, visually,...  positive      1\n",
       "...                                                  ...       ...    ...\n",
       "49995  [thought, movie, right, good, job, wasnt, crea...  positive      1\n",
       "49996  [bad, plot, bad, dialogue, bad, acting, idioti...  negative      0\n",
       "49997  [catholic, taught, parochial, elementary, scho...  negative      0\n",
       "49998  [im, going, disagree, previous, comment, side,...  negative      0\n",
       "49999  [one, expects, star, trek, movies, high, art, ...  negative      0\n",
       "\n",
       "[50000 rows x 3 columns]"
      ]
     },
     "execution_count": 5,
     "metadata": {},
     "output_type": "execute_result"
    }
   ],
   "source": [
    "data"
   ]
  },
  {
   "cell_type": "code",
   "execution_count": 6,
   "id": "41ec762c",
   "metadata": {},
   "outputs": [],
   "source": [
    "def load_glove(glove_file):\n",
    "    with open(glove_file, 'r', encoding='utf-8') as f:\n",
    "        word_embeddings = {}\n",
    "        for line in f:\n",
    "            values = line.split()\n",
    "            word = values[0]\n",
    "            vector = np.asarray(values[1:], dtype='float32')\n",
    "            word_embeddings[word] = vector\n",
    "    return word_embeddings\n",
    "\n",
    "def generate_embedding_matrix(word_vector, embedding_model, embedding_type, max_length=200):\n",
    "    if embedding_type == 'glove':\n",
    "        embedding_dim = len(next(iter(embedding_model.values())))\n",
    "        embedding_matrix = np.zeros((max_length, embedding_dim))\n",
    "        for i, word in enumerate(word_vector):\n",
    "            if word in embedding_model:\n",
    "                embedding_matrix[i] = embedding_model[word]\n",
    "            if i >= max_length - 1:\n",
    "                break\n",
    "    else:\n",
    "        word_embeddings = []\n",
    "        for word in word_vector:\n",
    "            if word in embedding_model.wv:\n",
    "                word_embedding = embedding_model.wv[word]\n",
    "                word_embeddings.append(word_embedding)\n",
    "        embedding_matrix = np.array(word_embeddings)\n",
    "        if len(embedding_matrix) < max_length:\n",
    "            embedding_matrix = np.pad(embedding_matrix, ((0, max_length - len(embedding_matrix)), (0, 0)), mode='constant')\n",
    "        else:\n",
    "            embedding_matrix = embedding_matrix[:max_length, :]\n",
    "    return np.sum(embedding_matrix, axis=0)\n",
    "\n",
    "def train_word2vec(corpus, vector_size=100, window=10, min_count=1, workers=4, sg=1):\n",
    "    return Word2Vec(sentences=corpus, vector_size=vector_size, window=window, min_count=min_count, workers=workers, sg=sg)\n",
    "\n",
    "def train_fasttext(corpus, vector_size=100, window=10, min_count=1, workers=4, sg=1):\n",
    "    return FastText(sentences=corpus, vector_size=vector_size, window=window, min_count=min_count, workers=workers, sg=sg)\n",
    "\n",
    "def choose_embedding_model(corpus, model_type, glove_file):\n",
    "    if model_type == 'word2vec':\n",
    "        model = train_word2vec(corpus)\n",
    "    elif model_type == 'fasttext':\n",
    "        model = train_fasttext(corpus)\n",
    "    elif model_type == 'glove' and glove_file is not None:\n",
    "        model = load_glove(glove_file)\n",
    "    else:\n",
    "        raise ValueError(\"Invalid model type or missing GloVe file.\")\n",
    "    return model\n"
   ]
  },
  {
   "cell_type": "code",
   "execution_count": 7,
   "id": "63a89ffd",
   "metadata": {},
   "outputs": [],
   "source": [
    "tokenized_corpus=data['review'].to_list()"
   ]
  },
  {
   "cell_type": "code",
   "execution_count": 8,
   "id": "fe85692e",
   "metadata": {},
   "outputs": [],
   "source": [
    "embedding_type = 'fasttext' \n",
    "embedding_model = choose_embedding_model(tokenized_corpus, model_type=embedding_type, glove_file=r'D:\\CODING\\Python\\NLP\\END_SEM\\glove\\eng\\glove.6B.100d.txt')\n",
    "data['embedding_matrix'] = data['review'].apply(lambda x: generate_embedding_matrix(x, embedding_model, embedding_type))\n",
    "X = np.array(data['embedding_matrix'].tolist())\n",
    "y=data['label'] "
   ]
  },
  {
   "cell_type": "code",
   "execution_count": 9,
   "id": "0b9a0ec7",
   "metadata": {},
   "outputs": [],
   "source": [
    "from skntk import NeuralTangentKernel as NTK\n",
    "from sklearn.svm import SVC"
   ]
  },
  {
   "cell_type": "code",
   "execution_count": 10,
   "id": "431c140b",
   "metadata": {},
   "outputs": [],
   "source": [
    "ntk=NTK(3)\n",
    "svm_classifier = SVC(kernel=ntk)"
   ]
  },
  {
   "cell_type": "code",
   "execution_count": 11,
   "id": "be7aa2ed",
   "metadata": {},
   "outputs": [],
   "source": [
    "num_points = 50000\n",
    "num_iterations = 50\n",
    "subset_size = 10000"
   ]
  },
  {
   "cell_type": "code",
   "execution_count": 12,
   "id": "c5416249",
   "metadata": {},
   "outputs": [],
   "source": [
    "all_reports = []\n",
    "all_conf_matrices = []\n",
    "\n",
    "for _ in range(num_iterations):\n",
    "    sub_indices = np.random.choice(num_points, subset_size, replace=False)\n",
    "    X_sample = X[sub_indices]\n",
    "    y_sample = y[sub_indices]\n",
    "    \n",
    "    X_train, X_test, y_train, y_test = train_test_split(X_sample, y_sample, test_size=0.2, random_state=42)\n",
    "\n",
    "    svm_classifier.fit(X_train, y_train)\n",
    "\n",
    "    y_pred = svm_classifier.predict(X_test)\n",
    "    \n",
    "    report = classification_report(y_test, y_pred, output_dict=True)\n",
    "    conf_matrix = confusion_matrix(y_test, y_pred)\n",
    "    \n",
    "    all_reports.append(report)\n",
    "    all_conf_matrices.append(conf_matrix)\n",
    "    "
   ]
  },
  {
   "cell_type": "code",
   "execution_count": 13,
   "id": "d98c21cd",
   "metadata": {},
   "outputs": [],
   "source": [
    "def average_classification_report(reports):\n",
    "    avg_report = {}\n",
    "    for metric in reports[0].keys():\n",
    "        if isinstance(reports[0][metric], dict):\n",
    "            avg_report[metric] = {cls: np.mean([report[metric][cls] for report in reports]) for cls in reports[0][metric].keys()}\n",
    "        else:\n",
    "            avg_report[metric] = np.mean([report[metric] for report in reports])\n",
    "    return avg_report\n",
    "\n"
   ]
  },
  {
   "cell_type": "code",
   "execution_count": 123,
   "id": "8a1ee0ab-4263-43a7-a644-ef4a31c78b9f",
   "metadata": {},
   "outputs": [
    {
     "name": "stdout",
     "output_type": "stream",
     "text": [
      "Average Classification Report:\n",
      "{'0': {'precision': 0.8552620897430994, 'recall': 0.8479461175233548, 'f1-score': 0.8514970232747352, 'support': 996.54}, '1': {'precision': 0.8502137488748296, 'recall': 0.8575619213670046, 'f1-score': 0.8537872759512267, 'support': 1003.46}, 'accuracy': 0.85276, 'macro avg': {'precision': 0.8527379193089645, 'recall': 0.8527540194451798, 'f1-score': 0.8526421496129809, 'support': 2000.0}, 'weighted avg': {'precision': 0.8529679231208134, 'recall': 0.85276, 'f1-score': 0.8527602967037771, 'support': 2000.0}}\n"
     ]
    }
   ],
   "source": [
    "avg_report = average_classification_report(all_reports)\n",
    "print(\"Average Classification Report:\")\n",
    "print(avg_report)"
   ]
  },
  {
   "cell_type": "code",
   "execution_count": 124,
   "id": "9facf6b1",
   "metadata": {},
   "outputs": [
    {
     "data": {
      "image/png": "[encoded data removed]",
      "text/plain": [
       "<Figure size 640x480 with 2 Axes>"
      ]
     },
     "metadata": {},
     "output_type": "display_data"
    }
   ],
   "source": [
    "avg_conf_matrix = np.mean(all_conf_matrices, axis=0)\n",
    "\n",
    "# Display the aggregated confusion matrix\n",
    "disp = ConfusionMatrixDisplay(avg_conf_matrix, display_labels=['Positive', 'Negative'])\n",
    "disp.plot(cmap=plt.cm.Blues)\n",
    "plt.show()"
   ]
  },
  {
   "cell_type": "code",
   "execution_count": 125,
   "id": "f7652346",
   "metadata": {},
   "outputs": [
    {
     "data": {
      "image/png": "[encoded data removed]",
      "text/plain": [
       "<Figure size 800x600 with 1 Axes>"
      ]
     },
     "metadata": {},
     "output_type": "display_data"
    }
   ],
   "source": [
    "import matplotlib.pyplot as plt\n",
    "from sklearn.metrics import roc_curve, auc\n",
    "\n",
    "# Create a figure and axis\n",
    "fig, ax = plt.subplots(figsize=(8, 6))\n",
    "\n",
    "# SVM\n",
    "svm_fpr, svm_tpr, _ = roc_curve(y_test, svm_classifier.decision_function(X_test))\n",
    "svm_auc = auc(svm_fpr, svm_tpr)\n",
    "ax.plot(svm_fpr, svm_tpr, label='SVM with NTK (AUC = {:.3f})'.format(svm_auc))\n",
    "\n",
    "\n",
    "# Random guessing line\n",
    "ax.plot([0, 1], [0, 1], 'k--', label='Random Guessing')\n",
    "\n",
    "# Axis labels and title\n",
    "ax.set_xlabel('False Positive Rate')\n",
    "ax.set_ylabel('True Positive Rate')\n",
    "ax.set_title('Receiver Operating Characteristic (ROC) Curve')\n",
    "\n",
    "# Legend\n",
    "ax.legend(loc='best')\n",
    "\n",
    "# Show the plot\n",
    "plt.show()"
   ]
  },
  {
   "cell_type": "markdown",
   "id": "6d832101",
   "metadata": {},
   "source": [
    "------"
   ]
  },
  {
   "cell_type": "markdown",
   "id": "80579c9d",
   "metadata": {},
   "source": [
    "For NTK depth 1"
   ]
  },
  {
   "cell_type": "code",
   "execution_count": null,
   "id": "1aff1f6b",
   "metadata": {},
   "outputs": [],
   "source": [
    "data=pd.read_csv(r'D:\\CODING\\Python\\NLP\\END_SEM\\IMDB Dataset.csv')"
   ]
  },
  {
   "cell_type": "code",
   "execution_count": null,
   "id": "f265d63a",
   "metadata": {},
   "outputs": [],
   "source": [
    "def preprocess_text(text):\n",
    "    text = text.lower()\n",
    "    text = re.sub(r'[^a-zA-Z\\s]', '', text)\n",
    "    tokens = word_tokenize(text)\n",
    "    stop_words = set(stopwords.words('english'))\n",
    "    tokens = [word for word in tokens if word not in stop_words]\n",
    "    return tokens\n",
    "\n",
    "data['review'] = data['review'].apply(preprocess_text)\n",
    "\n",
    "data['label'] = data['sentiment'].map({'positive': 1, 'negative': 0})\n"
   ]
  },
  {
   "cell_type": "code",
   "execution_count": null,
   "id": "3facd791",
   "metadata": {},
   "outputs": [],
   "source": [
    "def load_glove(glove_file):\n",
    "    with open(glove_file, 'r', encoding='utf-8') as f:\n",
    "        word_embeddings = {}\n",
    "        for line in f:\n",
    "            values = line.split()\n",
    "            word = values[0]\n",
    "            vector = np.asarray(values[1:], dtype='float32')\n",
    "            word_embeddings[word] = vector\n",
    "    return word_embeddings\n",
    "\n",
    "def generate_embedding_matrix(word_vector, embedding_model, embedding_type, max_length=200):\n",
    "    if embedding_type == 'glove':\n",
    "        embedding_dim = len(next(iter(embedding_model.values())))\n",
    "        embedding_matrix = np.zeros((max_length, embedding_dim))\n",
    "        for i, word in enumerate(word_vector):\n",
    "            if word in embedding_model:\n",
    "                embedding_matrix[i] = embedding_model[word]\n",
    "            if i >= max_length - 1:\n",
    "                break\n",
    "    else:\n",
    "        word_embeddings = []\n",
    "        for word in word_vector:\n",
    "            if word in embedding_model.wv:\n",
    "                word_embedding = embedding_model.wv[word]\n",
    "                word_embeddings.append(word_embedding)\n",
    "        embedding_matrix = np.array(word_embeddings)\n",
    "        if len(embedding_matrix) < max_length:\n",
    "            embedding_matrix = np.pad(embedding_matrix, ((0, max_length - len(embedding_matrix)), (0, 0)), mode='constant')\n",
    "        else:\n",
    "            embedding_matrix = embedding_matrix[:max_length, :]\n",
    "    return np.sum(embedding_matrix, axis=0)\n",
    "\n",
    "def train_word2vec(corpus, vector_size=100, window=10, min_count=1, workers=4, sg=1):\n",
    "    return Word2Vec(sentences=corpus, vector_size=vector_size, window=window, min_count=min_count, workers=workers, sg=sg)\n",
    "\n",
    "def train_fasttext(corpus, vector_size=100, window=10, min_count=1, workers=4, sg=1):\n",
    "    return FastText(sentences=corpus, vector_size=vector_size, window=window, min_count=min_count, workers=workers, sg=sg)\n",
    "\n",
    "def choose_embedding_model(corpus, model_type, glove_file):\n",
    "    if model_type == 'word2vec':\n",
    "        model = train_word2vec(corpus)\n",
    "    elif model_type == 'fasttext':\n",
    "        model = train_fasttext(corpus)\n",
    "    elif model_type == 'glove' and glove_file is not None:\n",
    "        model = load_glove(glove_file)\n",
    "    else:\n",
    "        raise ValueError(\"Invalid model type or missing GloVe file.\")\n",
    "    return model\n"
   ]
  },
  {
   "cell_type": "code",
   "execution_count": null,
   "id": "e99b3e07",
   "metadata": {},
   "outputs": [],
   "source": [
    "tokenized_corpus=data['review'].to_list()"
   ]
  },
  {
   "cell_type": "code",
   "execution_count": null,
   "id": "834f5680",
   "metadata": {},
   "outputs": [],
   "source": [
    "embedding_type = 'word2vec' \n",
    "embedding_model = choose_embedding_model(tokenized_corpus, model_type=embedding_type, glove_file=r'D:\\CODING\\Python\\NLP\\END_SEM\\glove\\eng\\glove.6B.100d.txt')\n",
    "data['embedding_matrix'] = data['review'].apply(lambda x: generate_embedding_matrix(x, embedding_model, embedding_type))\n",
    "X = np.array(data['embedding_matrix'].tolist())\n",
    "y=data['label'] "
   ]
  },
  {
   "cell_type": "code",
   "execution_count": null,
   "id": "a2ad2f24",
   "metadata": {},
   "outputs": [],
   "source": [
    "from skntk import NeuralTangentKernel as NTK\n",
    "from sklearn.svm import SVC"
   ]
  },
  {
   "cell_type": "code",
   "execution_count": null,
   "id": "74c852b1",
   "metadata": {},
   "outputs": [],
   "source": [
    "ntk=NTK(3)\n",
    "svm_classifier = SVC(kernel=ntk)"
   ]
  },
  {
   "cell_type": "code",
   "execution_count": null,
   "id": "a8edf6de",
   "metadata": {},
   "outputs": [],
   "source": [
    "num_points = 50000\n",
    "num_iterations = 50\n",
    "subset_size = 10000"
   ]
  },
  {
   "cell_type": "code",
   "execution_count": null,
   "id": "477a7f73",
   "metadata": {},
   "outputs": [],
   "source": [
    "all_reports = []\n",
    "all_conf_matrices = []\n",
    "\n",
    "for _ in range(num_iterations):\n",
    "    sub_indices = np.random.choice(num_points, subset_size, replace=False)\n",
    "    X_sample = X[sub_indices]\n",
    "    y_sample = y[sub_indices]\n",
    "    \n",
    "    X_train, X_test, y_train, y_test = train_test_split(X_sample, y_sample, test_size=0.2, random_state=42)\n",
    "\n",
    "    svm_classifier.fit(X_train, y_train)\n",
    "\n",
    "    y_pred = svm_classifier.predict(X_test)\n",
    "    \n",
    "    report = classification_report(y_test, y_pred, output_dict=True)\n",
    "    conf_matrix = confusion_matrix(y_test, y_pred)\n",
    "    \n",
    "    all_reports.append(report)\n",
    "    all_conf_matrices.append(conf_matrix)\n",
    "    "
   ]
  },
  {
   "cell_type": "code",
   "execution_count": null,
   "id": "e5de25a2",
   "metadata": {},
   "outputs": [],
   "source": [
    "def average_classification_report(reports):\n",
    "    avg_report = {}\n",
    "    for metric in reports[0].keys():\n",
    "        if isinstance(reports[0][metric], dict):\n",
    "            avg_report[metric] = {cls: np.mean([report[metric][cls] for report in reports]) for cls in reports[0][metric].keys()}\n",
    "        else:\n",
    "            avg_report[metric] = np.mean([report[metric] for report in reports])\n",
    "    return avg_report\n",
    "\n"
   ]
  },
  {
   "cell_type": "code",
   "execution_count": null,
   "id": "2642ff80",
   "metadata": {},
   "outputs": [],
   "source": [
    "avg_report = average_classification_report(all_reports)\n",
    "print(\"Average Classification Report:\")\n",
    "print(avg_report)"
   ]
  },
  {
   "cell_type": "code",
   "execution_count": null,
   "id": "e25dae59",
   "metadata": {},
   "outputs": [],
   "source": [
    "avg_conf_matrix = np.mean(all_conf_matrices, axis=0)\n",
    "\n",
    "# Display the aggregated confusion matrix\n",
    "disp = ConfusionMatrixDisplay(avg_conf_matrix, display_labels=['Positive', 'Negative'])\n",
    "disp.plot(cmap=plt.cm.Blues)\n",
    "plt.show()"
   ]
  },
  {
   "cell_type": "code",
   "execution_count": null,
   "id": "8b0ac424",
   "metadata": {},
   "outputs": [],
   "source": [
    "import matplotlib.pyplot as plt\n",
    "from sklearn.metrics import roc_curve, auc\n",
    "\n",
    "# Create a figure and axis\n",
    "fig, ax = plt.subplots(figsize=(8, 6))\n",
    "\n",
    "# SVM\n",
    "svm_fpr, svm_tpr, _ = roc_curve(y_test, svm_classifier.decision_function(X_test))\n",
    "svm_auc = auc(svm_fpr, svm_tpr)\n",
    "ax.plot(svm_fpr, svm_tpr, label='SVM with NTK (AUC = {:.3f})'.format(svm_auc))\n",
    "\n",
    "\n",
    "# Random guessing line\n",
    "ax.plot([0, 1], [0, 1], 'k--', label='Random Guessing')\n",
    "\n",
    "# Axis labels and title\n",
    "ax.set_xlabel('False Positive Rate')\n",
    "ax.set_ylabel('True Positive Rate')\n",
    "ax.set_title('Receiver Operating Characteristic (ROC) Curve')\n",
    "\n",
    "# Legend\n",
    "ax.legend(loc='best')\n",
    "\n",
    "# Show the plot\n",
    "plt.show()"
   ]
  },
  {
   "cell_type": "markdown",
   "id": "e99a4227",
   "metadata": {},
   "source": [
    "----"
   ]
  },
  {
   "cell_type": "markdown",
   "id": "f39ae9ab",
   "metadata": {},
   "source": [
    "For NTK depth 5"
   ]
  },
  {
   "cell_type": "code",
   "execution_count": null,
   "id": "d0fc64ce",
   "metadata": {},
   "outputs": [],
   "source": [
    "data=pd.read_csv(r'D:\\CODING\\Python\\NLP\\END_SEM\\IMDB Dataset.csv')"
   ]
  },
  {
   "cell_type": "code",
   "execution_count": null,
   "id": "ad86211a",
   "metadata": {},
   "outputs": [],
   "source": [
    "def preprocess_text(text):\n",
    "    text = text.lower()\n",
    "    text = re.sub(r'[^a-zA-Z\\s]', '', text)\n",
    "    tokens = word_tokenize(text)\n",
    "    stop_words = set(stopwords.words('english'))\n",
    "    tokens = [word for word in tokens if word not in stop_words]\n",
    "    return tokens\n",
    "\n",
    "data['review'] = data['review'].apply(preprocess_text)\n",
    "\n",
    "data['label'] = data['sentiment'].map({'positive': 1, 'negative': 0})\n"
   ]
  },
  {
   "cell_type": "code",
   "execution_count": null,
   "id": "137d6f8f",
   "metadata": {},
   "outputs": [],
   "source": [
    "def load_glove(glove_file):\n",
    "    with open(glove_file, 'r', encoding='utf-8') as f:\n",
    "        word_embeddings = {}\n",
    "        for line in f:\n",
    "            values = line.split()\n",
    "            word = values[0]\n",
    "            vector = np.asarray(values[1:], dtype='float32')\n",
    "            word_embeddings[word] = vector\n",
    "    return word_embeddings\n",
    "\n",
    "def generate_embedding_matrix(word_vector, embedding_model, embedding_type, max_length=200):\n",
    "    if embedding_type == 'glove':\n",
    "        embedding_dim = len(next(iter(embedding_model.values())))\n",
    "        embedding_matrix = np.zeros((max_length, embedding_dim))\n",
    "        for i, word in enumerate(word_vector):\n",
    "            if word in embedding_model:\n",
    "                embedding_matrix[i] = embedding_model[word]\n",
    "            if i >= max_length - 1:\n",
    "                break\n",
    "    else:\n",
    "        word_embeddings = []\n",
    "        for word in word_vector:\n",
    "            if word in embedding_model.wv:\n",
    "                word_embedding = embedding_model.wv[word]\n",
    "                word_embeddings.append(word_embedding)\n",
    "        embedding_matrix = np.array(word_embeddings)\n",
    "        if len(embedding_matrix) < max_length:\n",
    "            embedding_matrix = np.pad(embedding_matrix, ((0, max_length - len(embedding_matrix)), (0, 0)), mode='constant')\n",
    "        else:\n",
    "            embedding_matrix = embedding_matrix[:max_length, :]\n",
    "    return np.sum(embedding_matrix, axis=0)\n",
    "\n",
    "def train_word2vec(corpus, vector_size=100, window=10, min_count=1, workers=4, sg=1):\n",
    "    return Word2Vec(sentences=corpus, vector_size=vector_size, window=window, min_count=min_count, workers=workers, sg=sg)\n",
    "\n",
    "def train_fasttext(corpus, vector_size=100, window=10, min_count=1, workers=4, sg=1):\n",
    "    return FastText(sentences=corpus, vector_size=vector_size, window=window, min_count=min_count, workers=workers, sg=sg)\n",
    "\n",
    "def choose_embedding_model(corpus, model_type, glove_file):\n",
    "    if model_type == 'word2vec':\n",
    "        model = train_word2vec(corpus)\n",
    "    elif model_type == 'fasttext':\n",
    "        model = train_fasttext(corpus)\n",
    "    elif model_type == 'glove' and glove_file is not None:\n",
    "        model = load_glove(glove_file)\n",
    "    else:\n",
    "        raise ValueError(\"Invalid model type or missing GloVe file.\")\n",
    "    return model\n"
   ]
  },
  {
   "cell_type": "code",
   "execution_count": null,
   "id": "5b6f1b28",
   "metadata": {},
   "outputs": [],
   "source": [
    "tokenized_corpus=data['review'].to_list()"
   ]
  },
  {
   "cell_type": "code",
   "execution_count": null,
   "id": "09cc7e68",
   "metadata": {},
   "outputs": [],
   "source": [
    "embedding_type = 'fasttext' \n",
    "embedding_model = choose_embedding_model(tokenized_corpus, model_type=embedding_type, glove_file=r'D:\\CODING\\Python\\NLP\\END_SEM\\glove\\eng\\glove.6B.100d.txt')\n",
    "data['embedding_matrix'] = data['review'].apply(lambda x: generate_embedding_matrix(x, embedding_model, embedding_type))\n",
    "X = np.array(data['embedding_matrix'].tolist())\n",
    "y=data['label'] "
   ]
  },
  {
   "cell_type": "code",
   "execution_count": null,
   "id": "89669662",
   "metadata": {},
   "outputs": [],
   "source": [
    "from skntk import NeuralTangentKernel as NTK\n",
    "from sklearn.svm import SVC"
   ]
  },
  {
   "cell_type": "code",
   "execution_count": null,
   "id": "be6c5e9f",
   "metadata": {},
   "outputs": [],
   "source": [
    "ntk=NTK(3)\n",
    "svm_classifier = SVC(kernel=ntk)"
   ]
  },
  {
   "cell_type": "code",
   "execution_count": null,
   "id": "89626284",
   "metadata": {},
   "outputs": [],
   "source": [
    "num_points = 50000\n",
    "num_iterations = 50\n",
    "subset_size = 10000"
   ]
  },
  {
   "cell_type": "code",
   "execution_count": null,
   "id": "d1f6a5b9",
   "metadata": {},
   "outputs": [],
   "source": [
    "all_reports = []\n",
    "all_conf_matrices = []\n",
    "\n",
    "for _ in range(num_iterations):\n",
    "    sub_indices = np.random.choice(num_points, subset_size, replace=False)\n",
    "    X_sample = X[sub_indices]\n",
    "    y_sample = y[sub_indices]\n",
    "    \n",
    "    X_train, X_test, y_train, y_test = train_test_split(X_sample, y_sample, test_size=0.2, random_state=42)\n",
    "\n",
    "    svm_classifier.fit(X_train, y_train)\n",
    "\n",
    "    y_pred = svm_classifier.predict(X_test)\n",
    "    \n",
    "    report = classification_report(y_test, y_pred, output_dict=True)\n",
    "    conf_matrix = confusion_matrix(y_test, y_pred)\n",
    "    \n",
    "    all_reports.append(report)\n",
    "    all_conf_matrices.append(conf_matrix)\n",
    "    "
   ]
  },
  {
   "cell_type": "code",
   "execution_count": null,
   "id": "adbecec5",
   "metadata": {},
   "outputs": [],
   "source": [
    "def average_classification_report(reports):\n",
    "    avg_report = {}\n",
    "    for metric in reports[0].keys():\n",
    "        if isinstance(reports[0][metric], dict):\n",
    "            avg_report[metric] = {cls: np.mean([report[metric][cls] for report in reports]) for cls in reports[0][metric].keys()}\n",
    "        else:\n",
    "            avg_report[metric] = np.mean([report[metric] for report in reports])\n",
    "    return avg_report\n",
    "\n"
   ]
  },
  {
   "cell_type": "code",
   "execution_count": null,
   "id": "d84dd775",
   "metadata": {},
   "outputs": [],
   "source": [
    "avg_report = average_classification_report(all_reports)\n",
    "print(\"Average Classification Report:\")\n",
    "print(avg_report)"
   ]
  },
  {
   "cell_type": "code",
   "execution_count": null,
   "id": "c0f0991b",
   "metadata": {},
   "outputs": [],
   "source": [
    "avg_conf_matrix = np.mean(all_conf_matrices, axis=0)\n",
    "\n",
    "# Display the aggregated confusion matrix\n",
    "disp = ConfusionMatrixDisplay(avg_conf_matrix, display_labels=['Positive', 'Negative'])\n",
    "disp.plot(cmap=plt.cm.Blues)\n",
    "plt.show()"
   ]
  },
  {
   "cell_type": "code",
   "execution_count": null,
   "id": "73ff106d",
   "metadata": {},
   "outputs": [],
   "source": [
    "import matplotlib.pyplot as plt\n",
    "from sklearn.metrics import roc_curve, auc\n",
    "\n",
    "# Create a figure and axis\n",
    "fig, ax = plt.subplots(figsize=(8, 6))\n",
    "\n",
    "# SVM\n",
    "svm_fpr, svm_tpr, _ = roc_curve(y_test, svm_classifier.decision_function(X_test))\n",
    "svm_auc = auc(svm_fpr, svm_tpr)\n",
    "ax.plot(svm_fpr, svm_tpr, label='SVM with NTK (AUC = {:.3f})'.format(svm_auc))\n",
    "\n",
    "\n",
    "# Random guessing line\n",
    "ax.plot([0, 1], [0, 1], 'k--', label='Random Guessing')\n",
    "\n",
    "# Axis labels and title\n",
    "ax.set_xlabel('False Positive Rate')\n",
    "ax.set_ylabel('True Positive Rate')\n",
    "ax.set_title('Receiver Operating Characteristic (ROC) Curve')\n",
    "\n",
    "# Legend\n",
    "ax.legend(loc='best')\n",
    "\n",
    "# Show the plot\n",
    "plt.show()"
   ]
  },
  {
   "cell_type": "markdown",
   "id": "59835be6",
   "metadata": {},
   "source": [
    "---------------"
   ]
  },
  {
   "cell_type": "markdown",
   "id": "1a5d78d6",
   "metadata": {},
   "source": []
  }
 ],
 "metadata": {
  "kernelspec": {
   "display_name": "tensorflow",
   "language": "python",
   "name": "python3"
  },
  "language_info": {
   "codemirror_mode": {
    "name": "ipython",
    "version": 3
   },
   "file_extension": ".py",
   "mimetype": "text/x-python",
   "name": "python",
   "nbconvert_exporter": "python",
   "pygments_lexer": "ipython3",
   "version": "3.11.8"
  }
 },
 "nbformat": 4,
 "nbformat_minor": 5
}
